{
 "cells": [
  {
   "cell_type": "code",
   "execution_count": null,
   "metadata": {},
   "outputs": [],
   "source": [
    "import auxiliary_fun as a\n",
    "import numpy as np\n",
    "import matplotlib.pyplot as plt\n",
    "import random\n",
    "from sklearn.preprocessing import normalize"
   ]
  },
  {
   "cell_type": "code",
   "execution_count": null,
   "metadata": {},
   "outputs": [],
   "source": [
    "data=normalize(np.array([[-10.312493000590392,28.1718385646513],\n",
    "       [-19.8453371647693,22.49805753429896],\n",
    "       [-25.354845801060154,16.035329569561778],\n",
    "       [-28.319022422546297,9.901159984129128],\n",
    "       [-29.75989725176625,3.7879434478771694],\n",
    "       [9.761370245042563,28.36751048187341],\n",
    "       [20.057095075834262,22.309480879638258],\n",
    "       [25.95730472236016,15.04055622477237],\n",
    "      [28.312687514014545,9.919260342070116],\n",
    "      [29.7457006844596,3.89785720499607],\n",
    "      [-28.326269003223416,-9.88040911890921],\n",
    "      [-22.31161658929157,-20.05471927433663],\n",
    "      [-10.146321811993474,-28.232112101071458],\n",
    "      [0,-30],\n",
    "      [-29.704206506242432,-4.202394059878807],\n",
    "      [-25.311134705144372,-16.104237328667136],\n",
    "      [9.912333635871622,-28.31511331234908],\n",
    "      [19.957322677713066,-22.39877834922342],\n",
    "      [25.9972777605403,-14.97135762184969],\n",
    "      [28.114656436010485,-10.467382360700036],\n",
    "      [29.780169369759083,-3.625122385308261],[0,30]]))\n"
   ]
  },
  {
   "cell_type": "code",
   "execution_count": null,
   "metadata": {},
   "outputs": [],
   "source": [
    "y=data[:,1]>0"
   ]
  },
  {
   "cell_type": "code",
   "execution_count": null,
   "metadata": {},
   "outputs": [],
   "source": [
    "plt.plot(data[:,0],data[:,1],'.')"
   ]
  },
  {
   "cell_type": "code",
   "execution_count": null,
   "metadata": {},
   "outputs": [],
   "source": [
    "index=a.dominatingSet(data,y,epsilon=0.2)\n",
    "dominating = data[index]\n",
    "print(len(dominating))"
   ]
  },
  {
   "cell_type": "code",
   "execution_count": null,
   "metadata": {},
   "outputs": [],
   "source": [
    "plt.plot(dominating[:,0],dominating[:,1],'.')"
   ]
  },
  {
   "cell_type": "code",
   "execution_count": null,
   "metadata": {},
   "outputs": [],
   "source": [
    "random_index = random.sample(range(len(data)),len(dominating))\n",
    "rand = data[random_index]\n",
    "plt.plot(rand[:,0],rand[:,1],'.')"
   ]
  },
  {
   "cell_type": "code",
   "execution_count": null,
   "metadata": {},
   "outputs": [],
   "source": [
    "from scipy.spatial.distance import directed_hausdorff\n",
    "print(\"Hausdorff distance between the original dataset and the dominating dataset: \",max(directed_hausdorff(data, dominating)[0], directed_hausdorff(dominating, data)[0]))\n",
    "print(\"Hausdorff distance between the original dataset and the random dataset: \",max(directed_hausdorff(data, rand)[0], directed_hausdorff(rand, data)[0]))"
   ]
  },
  {
   "cell_type": "code",
   "execution_count": null,
   "metadata": {},
   "outputs": [],
   "source": [
    "from ripser import ripser\n",
    "diagrams_or = ripser(data,maxdim=2)['dgms']\n",
    "diagrams_Sub = ripser(dominating,maxdim=2)['dgms']\n",
    "diagrams_Rand = ripser(rand,maxdim=2)['dgms']\n",
    "import gudhi as g\n",
    "message = \"Bottleneck distance for dominating dataset and dimension 0 =\" + '%.2f' % (g.bottleneck_distance(diagrams_or[0], diagrams_Sub[0])*0.5)\n",
    "print(message)\n",
    "message = \"Bottleneck distance for dominating dataset and dimension 1 =\" + '%.2f' % (g.bottleneck_distance(diagrams_or[1], diagrams_Sub[1])*0.5)\n",
    "print(message)\n",
    "message = \"Bottleneck distance for Random dataset and dimension 0 =\" + '%.2f' % (g.bottleneck_distance(diagrams_or[0], diagrams_Rand[0])*0.5)\n",
    "print(message)\n",
    "message = \"Bottleneck distance for Random dataset and dimension 1 =\" + '%.2f' % (g.bottleneck_distance(diagrams_or[1], diagrams_Rand[1])*0.5)\n",
    "print(message)\n",
    "\n"
   ]
  }
 ],
 "metadata": {
  "kernelspec": {
   "display_name": "Python 3",
   "language": "python",
   "name": "python3"
  },
  "language_info": {
   "codemirror_mode": {
    "name": "ipython",
    "version": 3
   },
   "file_extension": ".py",
   "mimetype": "text/x-python",
   "name": "python",
   "nbconvert_exporter": "python",
   "pygments_lexer": "ipython3",
   "version": "3.8.5"
  }
 },
 "nbformat": 4,
 "nbformat_minor": 4
}
